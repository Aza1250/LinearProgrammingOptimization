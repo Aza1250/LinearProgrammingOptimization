{
 "cells": [
  {
   "cell_type": "code",
   "execution_count": null,
   "id": "55b2625d-612f-4bb7-909c-62b6d44943d5",
   "metadata": {},
   "outputs": [],
   "source": [
    "from pulp import LpMaximize, LpProblem, LpStatus, lpSum, LpVariable, LpConstraint, LpAffineExpression"
   ]
  },
  {
   "cell_type": "code",
   "execution_count": null,
   "id": "b8d72459-88f1-422b-ad29-ed8c49d5d9c7",
   "metadata": {},
   "outputs": [],
   "source": [
    "import numpy as np"
   ]
  },
  {
   "cell_type": "code",
   "execution_count": null,
   "id": "beb7f28f-3371-4604-9774-5c7992592c4d",
   "metadata": {},
   "outputs": [],
   "source": [
    "# Allow the user to input ROIs \n",
    "# for each of the variables \n",
    "# as the inputs. This is our vector c,\n",
    "# in the context of the LP.\n",
    "\n",
    "# To remove a decision variable\n",
    "# and not include it in the calculation\n",
    "# of the LP, enter -1 for corresponding variable.\n",
    "\n",
    "inputs = np.zeros(7)\n",
    "\n",
    "for i in range(7):\n",
    "    inputs[i] = input()\n",
    "\n",
    "roi = []\n",
    "    \n",
    "for i in range(7):\n",
    "    if (inputs[i] == -1):\n",
    "        pass\n",
    "    else:\n",
    "        roi.append(inputs[i])\n",
    "    \n",
    "print(roi)\n",
    "print(inputs)"
   ]
  },
  {
   "cell_type": "code",
   "execution_count": null,
   "id": "986f2aa5-d5d0-4cc9-90c4-161ff9e56abe",
   "metadata": {},
   "outputs": [],
   "source": [
    "# Allow the user to input\n",
    "# constraints values.\n",
    "# The order of constraints is defined\n",
    "# in the project paper.\n",
    "\n",
    "constraints = np.zeros(8)\n",
    "\n",
    "for i in range(8):\n",
    "    constraints[i] = input()"
   ]
  },
  {
   "cell_type": "code",
   "execution_count": null,
   "id": "e9b9fc3a-792c-4c12-9c0b-da39eddc614a",
   "metadata": {},
   "outputs": [],
   "source": [
    "# Creating a model for the linear problem to be solved\n",
    "model = LpProblem(name=\"math340project\", sense=LpMaximize)"
   ]
  },
  {
   "cell_type": "code",
   "execution_count": null,
   "id": "58582b91-bf80-4214-8532-87d0c87c3017",
   "metadata": {},
   "outputs": [],
   "source": [
    "# Initialize the decision variables\n",
    "# The descriptions of each of the variables\n",
    "# are outlined in the project paper.\n",
    "\n",
    "# If entered -1, that decision variable will be removed,\n",
    "# and not used in the LP calculations.\n",
    "\n",
    "# USE DICTIONARIES WHERE THE KEY IS THE POSITION IN THE ORIGINAL INPUTS ARRAY\n",
    "variables_x = []\n",
    "\n",
    "for i in range(inputs.size):\n",
    "    if (inputs[i] == -1):\n",
    "        pass\n",
    "    else:\n",
    "        variables_x.append([i+1, (LpVariable(name=\"x_\"+str(i+1), lowBound=0))])\n",
    "        \n",
    "print(roi)\n",
    "print(variables_x)\n",
    "print(variables_x[0])\n",
    "print(variables_x[0][0])"
   ]
  },
  {
   "cell_type": "code",
   "execution_count": null,
   "id": "cb3fe28f-5c01-42d4-b434-baa7979d1248",
   "metadata": {},
   "outputs": [],
   "source": [
    "# Adding the objective function to the model\n",
    "model += lpSum(roi[i] * variables_x[i][1] for i in range(len(variables_x)))\n",
    "print(model)"
   ]
  },
  {
   "cell_type": "code",
   "execution_count": null,
   "id": "a12c5fb0-6c85-4b6c-87ea-24f9f2bfa950",
   "metadata": {},
   "outputs": [],
   "source": [
    "# Constraint 1: Total Budget\n",
    "model += lpSum(variables_x) <= constraints[0]\n",
    "\n",
    "# Constraint 2: Social Media Budget\n",
    "model += lpSum(variables_x[i][1] for i in range(len(variables_x)) if variables_x[i][0] <= 4) <= constraints[1]\n",
    "\n",
    "# Constraint 3: In-Person Budget\n",
    "model += lpSum(variables_x[i][1] for i in range(len(variables_x)) if variables_x[i][0] >= 6) <= constraints[2]\n",
    "\n",
    "# Constraint 4: Minimum Impressions\n",
    "model += lpSum(variables_x[i][1] * roi[i] for i in range(len(variables_x))) >= constraints[3]\n",
    "\n",
    "# Constraint 5: Facebook Budget\n",
    "model += lpSum(variables_x[i][1] for i in range(len(variables_x)) if variables_x[i][0] == 1) <= constraints[4]\n",
    "\n",
    "# Constraint 6: Instagram Budget\n",
    "model += lpSum(variables_x[i][1] for i in range(len(variables_x)) if variables_x[i][0] == 2) <= constraints[5]\n",
    "\n",
    "# Constraint 6: Youtube Budget\n",
    "model += lpSum(variables_x[i][1] for i in range(len(variables_x)) if variables_x[i][0] == 3) <= constraints[6]\n",
    "\n",
    "# Constraint 6: Twitter Budget\n",
    "model += lpSum(variables_x[i][1] for i in range(len(variables_x)) if variables_x[i][0] == 4) <= constraints[7]\n",
    "\n",
    "print(model)"
   ]
  },
  {
   "cell_type": "code",
   "execution_count": null,
   "id": "a3077cac-953d-4e03-8207-c5b1348a9874",
   "metadata": {},
   "outputs": [],
   "source": [
    "# Solve the model\n",
    "status = model.solve()\n",
    "print(f\"objective: {model.objective.value()}\")\n",
    "\n",
    "for var in model.variables():\n",
    "    print(f\"{var.name}: {var.value()}\")"
   ]
  }
 ],
 "metadata": {
  "kernelspec": {
   "display_name": "Python 3 (ipykernel)",
   "language": "python",
   "name": "python3"
  },
  "language_info": {
   "codemirror_mode": {
    "name": "ipython",
    "version": 3
   },
   "file_extension": ".py",
   "mimetype": "text/x-python",
   "name": "python",
   "nbconvert_exporter": "python",
   "pygments_lexer": "ipython3",
   "version": "3.9.6"
  }
 },
 "nbformat": 4,
 "nbformat_minor": 5
}
